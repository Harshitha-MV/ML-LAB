{
 "cells": [
  {
   "cell_type": "code",
   "execution_count": 10,
   "metadata": {},
   "outputs": [
    {
     "name": "stdout",
     "output_type": "stream",
     "text": [
      "     Sky AirTemp Humidity    Wind Water Forecast EnjoySport\n",
      "0  Sunny   Warm    Normal  Strong  Warm     Same        Yes\n",
      "1  Sunny   Warm      High  Strong  Warm     Same        Yes\n",
      "2  Rainy    Cold     High  Strong  Warm   Change         No\n",
      "3  Sunny   Warm      High  Strong  Cool   Change        Yes\n"
     ]
    }
   ],
   "source": [
    "import pandas as pd\n",
    "#from pandas import DataFrame\n",
    "import csv\n",
    "#data=DataFrame.from_csv('data.csv')\n",
    "data=pd.read_csv('data.csv')\n",
    "columnLength=data.shape[1]\n",
    "print(data)"
   ]
  },
  {
   "cell_type": "code",
   "execution_count": 11,
   "metadata": {},
   "outputs": [],
   "source": [
    "h=['0']*(columnLength-1)\n",
    "hp=[]\n",
    "hn=[]"
   ]
  },
  {
   "cell_type": "code",
   "execution_count": 12,
   "metadata": {},
   "outputs": [],
   "source": [
    "for trainingExample in data.values:\n",
    "    if trainingExample[-1]!='No':\n",
    "        hp.append(list(trainingExample))\n",
    "    else:\n",
    "        hn.append(list(trainingExample))"
   ]
  },
  {
   "cell_type": "code",
   "execution_count": 13,
   "metadata": {},
   "outputs": [],
   "source": [
    "for i in range (len(hp)):\n",
    "    for j in range(columnLength-1):\n",
    "        if(h[j]=='0'):\n",
    "            h[j]=hp[i][j]\n",
    "        if (h[j]!=hp[i][j]):\n",
    "            h[j]='?'\n",
    "        else:\n",
    "            h[j]=hp[i][j]\n",
    "        "
   ]
  },
  {
   "cell_type": "code",
   "execution_count": 14,
   "metadata": {},
   "outputs": [
    {
     "name": "stdout",
     "output_type": "stream",
     "text": [
      "\n",
      "The positive hypothesis are\n",
      "[['Sunny', 'Warm ', 'Normal', 'Strong', 'Warm', 'Same', 'Yes'], ['Sunny', 'Warm ', 'High', 'Strong', 'Warm', 'Same', 'Yes'], ['Sunny', 'Warm ', 'High', 'Strong', 'Cool', 'Change', 'Yes']]\n",
      "\n",
      "The negative hypothesis are\n",
      "[['Rainy', 'Cold', 'High', 'Strong', 'Warm', 'Change', 'No']]\n",
      "\n",
      "The positive hypothesis are\n",
      "['Sunny', 'Warm ', '?', 'Strong', '?', '?']\n"
     ]
    }
   ],
   "source": [
    "print('\\nThe positive hypothesis are')\n",
    "print(hp)\n",
    "print('\\nThe negative hypothesis are')\n",
    "print(hn)\n",
    "print('\\nThe maximally specific hypothesis are')\n",
    "print(h) "
   ]
  },
  {
   "cell_type": "code",
   "execution_count": null,
   "metadata": {},
   "outputs": [],
   "source": []
  }
 ],
 "metadata": {
  "kernelspec": {
   "display_name": "Python 3",
   "language": "python",
   "name": "python3"
  },
  "language_info": {
   "codemirror_mode": {
    "name": "ipython",
    "version": 3
   },
   "file_extension": ".py",
   "mimetype": "text/x-python",
   "name": "python",
   "nbconvert_exporter": "python",
   "pygments_lexer": "ipython3",
   "version": "3.8.3"
  }
 },
 "nbformat": 4,
 "nbformat_minor": 4
}
